{
 "cells": [
  {
   "cell_type": "markdown",
   "metadata": {},
   "source": [
    "# Нахождение минимума функции приближением параболами"
   ]
  },
  {
   "cell_type": "markdown",
   "metadata": {},
   "source": [
    "Введем функции, определяющие минимум параболы по трем точкам и функцию итерации"
   ]
  },
  {
   "cell_type": "code",
   "execution_count": 4,
   "metadata": {},
   "outputs": [],
   "source": [
    "import math\n",
    "import numpy\n",
    "import matplotlib\n",
    "import matplotlib.pyplot as plt\n",
    "\n",
    "def minimum_parabola(f, x1, x2, x3):\n",
    "    y1, y2, y3 = f(x1), f(x2), f(x3)\n",
    "    a = (y3 * (x1 - x2) + y1 * (x2 - x3) + y2 * (x3 - x1))\n",
    "    b = (y2 - y1) * (x2 - x3) * (x3 - x1) + y3 * (x2 - x1) ** 2 - y1 * (x2 - x3) * (x2 - x1) - y2 * (x3 - x1) * (x2 - x1)\n",
    "    return b / 2 / a * (-1) + x1\n",
    "\n",
    "def f(x):\n",
    "    return -7 * x ** 2 + 4 * x + 89\n",
    "\n",
    "def iteration(f, iterations, eps):\n",
    "    if abs(iterations[-2] - iterations[-1]) >= eps:\n",
    "        result = minimum_parabola(f, iterations[-1], iterations[-2], iterations[-3])\n",
    "        iterations.append(result)\n",
    "        return iteration(f, iterations, eps)\n",
    "    else:\n",
    "        return iterations\n",
    "\n",
    "def minimum(f, a, b, eps):\n",
    "    return iteration(f, [a, b, (a + b) / 2], eps)[-1]"
   ]
  },
  {
   "cell_type": "markdown",
   "metadata": {},
   "source": [
    "Введем функцию сложения колебаний и найдем её локальные минимумы на разных промежутках"
   ]
  },
  {
   "cell_type": "code",
   "execution_count": 5,
   "metadata": {},
   "outputs": [
    {
     "data": {
      "image/png": "[encoded data removed]",
      "text/plain": [
       "<matplotlib.figure.Figure at 0x24cc184eb38>"
      ]
     },
     "metadata": {},
     "output_type": "display_data"
    }
   ],
   "source": [
    "def f1(x):\n",
    "    return math.sin(20 * x) * math.cos(3 * x)\n",
    "\n",
    "x = numpy.arange(5.5, 6.5, 0.001)\n",
    "plt.plot(x, [f1(el) for el in x], ',')\n",
    "plt.grid(True)\n",
    "plt.show()"
   ]
  },
  {
   "cell_type": "markdown",
   "metadata": {},
   "source": [
    "Найдем самый левый минимум (на [5.6, 5.75])"
   ]
  },
  {
   "cell_type": "code",
   "execution_count": 6,
   "metadata": {},
   "outputs": [
    {
     "name": "stdout",
     "output_type": "stream",
     "text": [
      "5.699127879174116\n"
     ]
    },
    {
     "data": {
      "image/png": "[encoded data removed]",
      "text/plain": [
       "<matplotlib.figure.Figure at 0x24cc184e160>"
      ]
     },
     "metadata": {},
     "output_type": "display_data"
    }
   ],
   "source": [
    "print(minimum(f1, 5.6, 5.75, 10 ** (-8)))\n",
    "minimum_1 = minimum(f1, 5.6, 5.75, 10 ** (-8))\n",
    "x = numpy.arange(5.5, 6.5, 0.001)\n",
    "plt.plot(x, [f1(el) for el in x], ',')\n",
    "plt.plot(x, [f1(minimum_1) for el in x], ',')\n",
    "plt.show()"
   ]
  },
  {
   "cell_type": "markdown",
   "metadata": {
    "collapsed": true
   },
   "source": [
    "И самый правый (на [6.1, 6.3])"
   ]
  },
  {
   "cell_type": "code",
   "execution_count": 7,
   "metadata": {},
   "outputs": [
    {
     "name": "stdout",
     "output_type": "stream",
     "text": [
      "5.699127879174116\n"
     ]
    },
    {
     "data": {
      "image/png": "[encoded data removed]",
      "text/plain": [
       "<matplotlib.figure.Figure at 0x24cc17b6908>"
      ]
     },
     "metadata": {},
     "output_type": "display_data"
    }
   ],
   "source": [
    "print(minimum(f1, 5.6, 5.75, 10 ** (-8)))\n",
    "minimum_1 = minimum(f1, 6.1, 6.3, 10 ** (-8))\n",
    "x = numpy.arange(5.5, 6.5, 0.001)\n",
    "plt.plot(x, [f1(el) for el in x], ',')\n",
    "plt.plot(x, [f1(minimum_1) for el in x], ',')\n",
    "plt.show()"
   ]
  },
  {
   "cell_type": "markdown",
   "metadata": {},
   "source": [
    "Функция работает."
   ]
  }
 ],
 "metadata": {
  "kernelspec": {
   "display_name": "Python 3",
   "language": "python",
   "name": "python3"
  },
  "language_info": {
   "codemirror_mode": {
    "name": "ipython",
    "version": 3
   },
   "file_extension": ".py",
   "mimetype": "text/x-python",
   "name": "python",
   "nbconvert_exporter": "python",
   "pygments_lexer": "ipython3",
   "version": "3.6.3"
  }
 },
 "nbformat": 4,
 "nbformat_minor": 2
}
