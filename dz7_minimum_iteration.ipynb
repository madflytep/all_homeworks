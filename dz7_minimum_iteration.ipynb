{
 "cells": [
  {
   "cell_type": "markdown",
   "metadata": {},
   "source": [
    "# Нахождение минимума функции с помощью отбрасывания внешних точек"
   ]
  },
  {
   "cell_type": "markdown",
   "metadata": {},
   "source": [
    "Зададим данную функцию, для которой требуется найти минимум, а так же функцию, определяющую точки, лежащие вне отрезка, содержащего минимум и сдвигающие границы приближения"
   ]
  },
  {
   "cell_type": "code",
   "execution_count": 3,
   "metadata": {},
   "outputs": [],
   "source": [
    "import math\n",
    "import numpy\n",
    "import matplotlib\n",
    "import matplotlib.pyplot as plt\n",
    "\n",
    "difference = []\n",
    "\n",
    "def iteration(f, a, b, EPS):\n",
    "    if abs(b - a) >= EPS:\n",
    "        a1 = a + abs(a - b) / 1.62\n",
    "        b1 = b - abs(a1 - b) / 1.62\n",
    "        difference.append(abs(a - b))\n",
    "        if f(a1) > f(b1):\n",
    "            return iteration(f, a1, b, EPS)\n",
    "        else:\n",
    "            return iteration(f, a, b1, EPS)\n",
    "    else:\n",
    "        return a, b\n",
    "        \n",
    "def f(x):\n",
    "    return (-1) * math.cos(x)\n",
    "\n",
    "def minimum(f, a, b, EPS):\n",
    "    result = iteration(f, a, b, EPS)\n",
    "    return (result[1] + result[0]) / 2"
   ]
  },
  {
   "cell_type": "markdown",
   "metadata": {},
   "source": [
    "Построим график функции -cos(x) и прямую, y координата точек которой совпадает с значением функции в найденном минимуме (на отрезке [4.5, 6.5])."
   ]
  },
  {
   "cell_type": "code",
   "execution_count": 4,
   "metadata": {
    "scrolled": true
   },
   "outputs": [
    {
     "data": {
      "image/png": "[encoded data removed]",
      "text/plain": [
       "<matplotlib.figure.Figure at 0x161499786a0>"
      ]
     },
     "metadata": {},
     "output_type": "display_data"
    }
   ],
   "source": [
    "a = 4.5\n",
    "b = 6.5\n",
    "x = numpy.arange(a - 0.5, b + 0.5, 0.002)\n",
    "minimum_1 = minimum(f, a, b, 10 ** (-8))\n",
    "plt.plot(x, [f(el) for el in x], ',')\n",
    "plt.plot(x, [f(minimum_1) for el in x], ',')\n",
    "plt.grid(True)\n",
    "plt.show()"
   ]
  },
  {
   "cell_type": "markdown",
   "metadata": {
    "collapsed": true
   },
   "source": [
    "Минимум найден."
   ]
  }
 ],
 "metadata": {
  "kernelspec": {
   "display_name": "Python 3",
   "language": "python",
   "name": "python3"
  },
  "language_info": {
   "codemirror_mode": {
    "name": "ipython",
    "version": 3
   },
   "file_extension": ".py",
   "mimetype": "text/x-python",
   "name": "python",
   "nbconvert_exporter": "python",
   "pygments_lexer": "ipython3",
   "version": "3.6.3"
  }
 },
 "nbformat": 4,
 "nbformat_minor": 2
}
