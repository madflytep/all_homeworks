{
 "cells": [
  {
   "cell_type": "markdown",
   "metadata": {},
   "source": [
    "# Центральное и одностороннее численное дифферинцирование"
   ]
  },
  {
   "cell_type": "code",
   "execution_count": 1,
   "metadata": {},
   "outputs": [],
   "source": [
    "import matplotlib.pyplot as plt"
   ]
  },
  {
   "cell_type": "markdown",
   "metadata": {},
   "source": [
    "Пробная функция:"
   ]
  },
  {
   "cell_type": "code",
   "execution_count": 2,
   "metadata": {},
   "outputs": [],
   "source": [
    "def Example ( x ):\n",
    "  return x**11"
   ]
  },
  {
   "cell_type": "markdown",
   "metadata": {},
   "source": [
    "Функции односторонней, центральной и аналитической производных соответственно:"
   ]
  },
  {
   "cell_type": "code",
   "execution_count": 3,
   "metadata": {},
   "outputs": [],
   "source": [
    "def NDerivative_Side ( f , x , dx ) :\n",
    "  return ( f ( x + dx ) - f ( x ) ) / dx\n",
    "\n",
    "def NDerivative_Centre ( f , x , dx ) :\n",
    "  return ( f ( x + dx ) - f ( x - dx ) ) / (2 * dx)\n",
    "\n",
    "def Derivative ( x ):\n",
    "  return 11*x**10"
   ]
  },
  {
   "cell_type": "markdown",
   "metadata": {},
   "source": [
    "Функция построения графика разности аналитической и численной производных. Число -160 выбрано в качестве границы интервала не случайно. Это необходимо, чтобы график в логарифмической шкале отображался до значения 10^-16, где разность производных становится порядка машинного эпсилон для float, а сравнение значений теряет всякий смысл."
   ]
  },
  {
   "cell_type": "code",
   "execution_count": 20,
   "metadata": {},
   "outputs": [],
   "source": [
    "def LogPlot ( x0, NDer ):\n",
    "  \n",
    "  dvals = [ 10 ** (k/10) for k in range ( -160, 0 ) ]\n",
    "  \n",
    "  if NDer == 'Side'   :\n",
    "    fvals = [ NDerivative_Side ( Example , x0 , 10 ** (k/10) ) - Derivative ( x0 ) for k in range ( -160 , 0 ) ]\n",
    "    \n",
    "  if NDer == 'Centre' :\n",
    "    fvals = [ NDerivative_Centre ( Example , x0 , 10 ** (k/10) ) - Derivative ( x0 ) for k in range ( -160 , 0 ) ]\n",
    "  \n",
    "  plt.loglog ( dvals , fvals , 'o--')\n",
    "  plt.grid(True)\n",
    "  plt.show()"
   ]
  },
  {
   "cell_type": "markdown",
   "metadata": {},
   "source": [
    "В качестве x0 можно выбрать любую точку области определения пробной функции."
   ]
  },
  {
   "cell_type": "code",
   "execution_count": 21,
   "metadata": {},
   "outputs": [],
   "source": [
    "x0 = 3.0"
   ]
  },
  {
   "cell_type": "markdown",
   "metadata": {},
   "source": [
    "График для одностороннего приближения:"
   ]
  },
  {
   "cell_type": "code",
   "execution_count": 22,
   "metadata": {},
   "outputs": [
    {
     "data": {
      "image/png": "[encoded data removed]",
      "text/plain": [
       "<matplotlib.figure.Figure at 0x7f5d2fa8e128>"
      ]
     },
     "metadata": {},
     "output_type": "display_data"
    }
   ],
   "source": [
    "LogPlot ( x0 , 'Side' )"
   ]
  },
  {
   "cell_type": "markdown",
   "metadata": {},
   "source": [
    "Для центрального:"
   ]
  },
  {
   "cell_type": "code",
   "execution_count": 23,
   "metadata": {},
   "outputs": [
    {
     "data": {
      "image/png": "[encoded data removed]",
      "text/plain": [
       "<matplotlib.figure.Figure at 0x7f5d2f802e48>"
      ]
     },
     "metadata": {},
     "output_type": "display_data"
    }
   ],
   "source": [
    "LogPlot ( x0 , 'Centre' )"
   ]
  },
  {
   "cell_type": "markdown",
   "metadata": {},
   "source": [
    "Флуктуации в левой ветви графиков есть ничто иное, как результат неточного округления и накопления ошибки при малых значениях приращения аргумента. При возрастании приращения эти ошибки естественным образом устраняются. В остальном же легко заметить, что минимум функции разностей для центрального приближения лежит гораздо ниже минимума функции для одностороннего приближения. Это означает, что центральное приближение дает на несколько порядков более эффективную оценку производной, чем одностороннее, что и требовалось доказать."
   ]
  }
 ],
 "metadata": {
  "kernelspec": {
   "display_name": "Python 3",
   "language": "python",
   "name": "python3"
  },
  "language_info": {
   "codemirror_mode": {
    "name": "ipython",
    "version": 3
   },
   "file_extension": ".py",
   "mimetype": "text/x-python",
   "name": "python",
   "nbconvert_exporter": "python",
   "pygments_lexer": "ipython3",
   "version": "3.6.3"
  }
 },
 "nbformat": 4,
 "nbformat_minor": 2
}
