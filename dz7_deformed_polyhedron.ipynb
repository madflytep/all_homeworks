{
 "cells": [
  {
   "cell_type": "markdown",
   "metadata": {
    "collapsed": true
   },
   "source": [
    "# Нахождение минимума функции многих переменных методом деформируемого многогранника"
   ]
  },
  {
   "cell_type": "code",
   "execution_count": 1,
   "metadata": {
    "scrolled": true
   },
   "outputs": [
    {
     "name": "stdout",
     "output_type": "stream",
     "text": [
      "-1.9999980471857053 -1.5698720139373956 -1.5725431167559405\n"
     ]
    }
   ],
   "source": [
    "import math\n",
    "import numpy\n",
    "import matplotlib\n",
    "import matplotlib.pyplot as plt\n",
    "\n",
    "def deformed_polynom(f, N, coordinates, eps):\n",
    "    coordinates.sort()\n",
    "    x_c = []\n",
    "    for i in range(N):\n",
    "        result = 0\n",
    "        for j in range(N):\n",
    "            result += coordinates[j][i] / N\n",
    "        x_c.append(result)\n",
    "    \n",
    "    x_r = reflection(N, coordinates[-1][1:], x_c)\n",
    "    f_r = f(x_r)\n",
    "    if f_r < coordinates[-3][0]:\n",
    "        x_e = extension(N, x_r, x_c)\n",
    "        f_e = f(x_e)\n",
    "        if f_e < coordinates[-3][0]:\n",
    "            coordinates[-1] = [f_e] + x_e\n",
    "        else:\n",
    "            coordinates[-1] = [f_r] + x_r\n",
    "    elif f_r < coordinates[-1][0]:\n",
    "        coordinates[-1] = [f_r] + x_r\n",
    "        \n",
    "    x_s = compression(N, coordinates[-1][1:], x_c) \n",
    "    f_s = f(x_s)\n",
    "    \n",
    "    if f_s < coordinates[-1][0]:\n",
    "        coordinates[-1] = [f_s] + x_s\n",
    "    else:\n",
    "        coordinates.sort()\n",
    "        coordinates = homotety(N, coordinates)\n",
    "    if distance(N, coordinates) > eps:\n",
    "        return deformed_polynom(f, N, coordinates, eps)\n",
    "    else:\n",
    "        return coordinates\n",
    "        \n",
    "def distance(N, coordinates):\n",
    "    result = 0\n",
    "    for i in range(1, N + 1):\n",
    "        for j in range(1, N + 1):\n",
    "            for k in range(1, N + 1):\n",
    "                if result < abs(coordinates[k][i] - coordinates[j][i]):\n",
    "                    result = abs(coordinates[k][i] - coordinates[j][i])\n",
    "    return result\n",
    "\n",
    "def homotety(N, coordinates):\n",
    "    for i in range(1, N + 1):\n",
    "        for j in range(1, N + 1):\n",
    "            coordinates[i][j] = coordinates[0][j] / 2 + coordinates[i][j] / 2\n",
    "    for i in range(1, N + 1):\n",
    "        coordinates[i][0] = f(coordinates[i][1:])\n",
    "    return coordinates\n",
    "\n",
    "def compression(N, x_a, x_c):\n",
    "    B = 0.5\n",
    "    result = []\n",
    "    for i in range(N):\n",
    "        result.append(x_c[i] * (1 - B) + x_a[i] * B)\n",
    "    return result\n",
    "\n",
    "def extension(N, x_a, x_c):\n",
    "    C = 2\n",
    "    result = []\n",
    "    for i in range(N):\n",
    "        result.append(x_c[i] * (1 - C) - x_a[i] * C)\n",
    "    return result\n",
    "\n",
    "def reflection(N, x_a, x_c):\n",
    "    A = 1\n",
    "    result = []\n",
    "    for i in range(N):\n",
    "        result.append(x_c[i] * (1 + A) - x_a[i] * A)\n",
    "    return result\n",
    "\n",
    "def minimum(f, N, coordinates, eps):\n",
    "    if len(coordinates) != N + 1:\n",
    "        return 'wrong data'\n",
    "    for i in range(N + 1):\n",
    "        coordinates[i] = [f(coordinates[i])] + coordinates[i]\n",
    "    return deformed_polynom(f, N, coordinates, eps)[0]\n",
    "\n",
    "def f(coordinates):\n",
    "    return sum(math.sin(x) for x in coordinates)\n",
    "\n",
    "print(' '.join(map(str, minimum(f, 2, [[-1, -1], [-3, -1], [-2, -2]], 0.0001))))"
   ]
  },
  {
   "cell_type": "markdown",
   "metadata": {
    "collapsed": true
   },
   "source": [
    "Для выбранной функции программа довольно точно вывдит значения, близкие к реальному pi/2"
   ]
  }
 ],
 "metadata": {
  "kernelspec": {
   "display_name": "Python 3",
   "language": "python",
   "name": "python3"
  },
  "language_info": {
   "codemirror_mode": {
    "name": "ipython",
    "version": 3
   },
   "file_extension": ".py",
   "mimetype": "text/x-python",
   "name": "python",
   "nbconvert_exporter": "python",
   "pygments_lexer": "ipython3",
   "version": "3.6.3"
  }
 },
 "nbformat": 4,
 "nbformat_minor": 2
}
