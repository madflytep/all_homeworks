{
 "cells": [
  {
   "cell_type": "markdown",
   "metadata": {},
   "source": [
    "# Решение систем линейных уравнений методом Гаусса"
   ]
  },
  {
   "cell_type": "markdown",
   "metadata": {},
   "source": [
    "Введем функцию решения систем линейных уравнений методом Гаусса и функцию вывода матрицы"
   ]
  },
  {
   "cell_type": "code",
   "execution_count": 1,
   "metadata": {
    "collapsed": true
   },
   "outputs": [],
   "source": [
    "def gauss(A, b1):\n",
    "    N = len(A)\n",
    "    try:\n",
    "        b = []\n",
    "        for i in range (N):\n",
    "            b.append([i, b1[i]])\n",
    "        for i in range(N):\n",
    "            maxim = i\n",
    "            for j in range(i, N):\n",
    "                if A[j][i] > A[maxim][i]:\n",
    "                    maxim = j\n",
    "                    \n",
    "            A[i], A[maxim] = A[maxim], A[i]\n",
    "            b[i][1], b[maxim][1] = b[maxim][1], b[i][1]\n",
    "            basis = A[i][i]\n",
    "            \n",
    "            for j in range(i, N):\n",
    "                A[i][j] /= basis\n",
    "            b[i][1] /= basis\n",
    "            \n",
    "            \n",
    "            for j in range(i + 1, N):\n",
    "                if A[j][i]:\n",
    "                    multiply = A[j][i]\n",
    "                    for k in range(i, N):\n",
    "                        A[j][k] -= multiply * A[i][k]\n",
    "                    b[j][1] -= multiply * b[i][1]\n",
    "                      \n",
    "        for i in range(N - 1, 0, -1):\n",
    "            diff = b[i][1]\n",
    "            for j in range(i):\n",
    "                b[j][1] -= diff * A[j][i]\n",
    "                A[j][i] = 0\n",
    "                \n",
    "        b.sort()\n",
    "        for i in range(N):\n",
    "            b1[i] = b[i][1]\n",
    "        return A, b1\n",
    "    except:\n",
    "        return 'No sollution'\n",
    "\n",
    "def print_matrix(A):\n",
    "    N = len(A)\n",
    "    for i in range(N):\n",
    "        print(' '.join(map(str, A[i])))"
   ]
  },
  {
   "cell_type": "markdown",
   "metadata": {},
   "source": [
    "Проверим её для матрицы 2x2. (Матрицы выводятся в перевернутом виде (значения не справа, а снизу))"
   ]
  },
  {
   "cell_type": "code",
   "execution_count": 8,
   "metadata": {},
   "outputs": [
    {
     "name": "stdout",
     "output_type": "stream",
     "text": [
      "1 2\n",
      "2 3\n",
      "5 8\n",
      "\n",
      "1.0 0\n",
      "0.0 1.0\n",
      "1.0 2.0\n"
     ]
    }
   ],
   "source": [
    "N1 = 2\n",
    "A1 = [[1, 2], [2, 3]]\n",
    "b1 = [5, 8]\n",
    "\n",
    "print_matrix(A1)\n",
    "print(' '.join(map(str, b1)))\n",
    "print()\n",
    "print_matrix(gauss(A1, b1)[0])\n",
    "print(' '.join(map(str, gauss(A1, b1)[1])))"
   ]
  },
  {
   "cell_type": "markdown",
   "metadata": {},
   "source": [
    "Для матрицы 3x3"
   ]
  },
  {
   "cell_type": "code",
   "execution_count": 9,
   "metadata": {},
   "outputs": [
    {
     "name": "stdout",
     "output_type": "stream",
     "text": [
      "1 2 3\n",
      "1 3 5\n",
      "1 4 8\n",
      "7 10 14\n",
      "\n",
      "1.0 0 0\n",
      "0.0 1.0 0\n",
      "0.0 0.0 1.0\n",
      "2.0 1.0 1.0\n"
     ]
    }
   ],
   "source": [
    "N2 = 3\n",
    "A2 = [[1, 2, 3], [1, 3, 5], [1, 4, 8]]\n",
    "b2 = [7, 10, 14]\n",
    "print_matrix(A2)\n",
    "print(' '.join(map(str, b2)))\n",
    "print()\n",
    "print_matrix(gauss(A2, b2)[0])\n",
    "print(' '.join(map(str, gauss(A2, b2)[1])))"
   ]
  },
  {
   "cell_type": "markdown",
   "metadata": {},
   "source": [
    "И 10x10"
   ]
  },
  {
   "cell_type": "code",
   "execution_count": 10,
   "metadata": {},
   "outputs": [
    {
     "name": "stdout",
     "output_type": "stream",
     "text": [
      "1 1 1 0 0 0 0 0 0 0\n",
      "0 1 1 1 0 0 0 0 0 0\n",
      "0 0 1 1 0 0 0 0 0 0\n",
      "0 0 0 1 1 0 0 0 0 0\n",
      "0 0 0 0 1 1 0 0 0 0\n",
      "0 0 0 0 0 1 1 0 0 0\n",
      "0 0 0 0 0 0 1 1 0 0\n",
      "0 0 0 0 0 0 0 1 1 0\n",
      "0 0 0 0 0 0 0 0 1 1\n",
      "1 0 0 0 0 0 0 0 0 1\n",
      "3 3 2 2 2 2 2 2 2 2\n",
      "\n",
      "1.0 0 0 0 0 0 0 0 0 0\n",
      "0 1.0 0 0 0 0 0 0 0 0\n",
      "0 0 1.0 0 0 0 0 0 0 0\n",
      "0 0 0 1.0 0 0 0 0 0 0\n",
      "0 0 0 0 1.0 0 0 0 0 0\n",
      "0 0 0 0 0 1.0 0 0 0 0\n",
      "0 0 0 0 0 0 1.0 0 0 0\n",
      "0 0 0 0 0 0 0 1.0 0 0\n",
      "0 0 0 0 0 0 0 0 1.0 0\n",
      "0.0 0.0 0.0 0.0 0.0 0.0 0.0 0.0 0.0 1.0\n",
      "1.0 1.0 1.0 1.0 1.0 1.0 1.0 1.0 1.0 1.0\n"
     ]
    }
   ],
   "source": [
    "N3 = 10\n",
    "A3 = [[1, 1, 1, 0, 0, 0, 0, 0, 0, 0], [0, 1, 1, 1, 0, 0, 0, 0, 0, 0], [0, 0, 1, 1, 0, 0, 0, 0, 0, 0], [0, 0, 0, 1, 1, 0, 0, 0, 0, 0], [0, 0, 0, 0, 1, 1, 0, 0, 0, 0], [0, 0, 0, 0, 0, 1, 1, 0, 0, 0], [0, 0, 0, 0, 0, 0, 1, 1, 0, 0], [0, 0, 0, 0, 0, 0, 0, 1, 1, 0], [0, 0, 0, 0, 0, 0, 0, 0, 1, 1], [1, 0, 0, 0, 0, 0, 0, 0, 0, 1]]\n",
    "b3 = [3, 3] + [2] * 8\n",
    "print_matrix(A3)\n",
    "print(' '.join(map(str, b3)))\n",
    "print()\n",
    "print_matrix(gauss(A3, b3)[0])\n",
    "print(' '.join(map(str, gauss(A3, b3)[1])))"
   ]
  }
 ],
 "metadata": {
  "kernelspec": {
   "display_name": "Python 3",
   "language": "python",
   "name": "python3"
  },
  "language_info": {
   "codemirror_mode": {
    "name": "ipython",
    "version": 3
   },
   "file_extension": ".py",
   "mimetype": "text/x-python",
   "name": "python",
   "nbconvert_exporter": "python",
   "pygments_lexer": "ipython3",
   "version": "3.6.3"
  }
 },
 "nbformat": 4,
 "nbformat_minor": 2
}
