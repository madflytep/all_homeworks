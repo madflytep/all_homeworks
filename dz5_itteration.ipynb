{
 "cells": [
  {
   "cell_type": "markdown",
   "metadata": {
    "collapsed": true
   },
   "source": [
    "# Построение множества точек, итеррации которых при решении уравнения x ** 3 = 1 сходятся к разным корням"
   ]
  },
  {
   "cell_type": "markdown",
   "metadata": {},
   "source": [
    "Введем функцию, соответствующую данному уравнению, её производную и функцию решения уравниния методом итерраций"
   ]
  },
  {
   "cell_type": "code",
   "execution_count": 6,
   "metadata": {
    "collapsed": true
   },
   "outputs": [],
   "source": [
    "import math\n",
    "import numpy\n",
    "import matplotlib\n",
    "import matplotlib.pyplot as plt\n",
    "\n",
    "def f(x):\n",
    "    return x ** 3 - 1\n",
    "\n",
    "def f1(x):\n",
    "    return 3 * x ** 2\n",
    "\n",
    "def iteration(f, x0, n):\n",
    "    for i in range(n):\n",
    "        x0 -= f(x0) / f1(x0)\n",
    "    return x0"
   ]
  },
  {
   "cell_type": "markdown",
   "metadata": {},
   "source": [
    "Для точек из области -5 <= x <=5, -5 <= y <= 5 проверим, чему равно решение после 8 итерраций, после чего добавляем её в соответствующий массив и рисуем множество точек соответствующим цветом"
   ]
  },
  {
   "cell_type": "code",
   "execution_count": 8,
   "metadata": {},
   "outputs": [
    {
     "data": {
      "image/png": "[encoded data removed]",
      "text/plain": [
       "<matplotlib.figure.Figure at 0x227c7edd518>"
      ]
     },
     "metadata": {},
     "output_type": "display_data"
    }
   ],
   "source": [
    "x = numpy.arange(-5, 5, 0.025)\n",
    "y = numpy.arange(-5, 5, 0.025)\n",
    "red_x = []\n",
    "red_y = []\n",
    "green_x = []\n",
    "green_y = []\n",
    "yellow_x = []\n",
    "yellow_y = []\n",
    "for i in x:\n",
    "    for j in y:\n",
    "        if abs(iteration(f, i + j * 1j, 8).imag) <= 0.45:\n",
    "            red_x.append(i)\n",
    "            red_y.append(j)\n",
    "        elif iteration(f, i + j * 1j, 8).imag <= -0.45:\n",
    "            green_x.append(i)\n",
    "            green_y.append(j)\n",
    "        else:\n",
    "            yellow_x.append(i)\n",
    "            yellow_y.append(j)\n",
    "            \n",
    "figure, regular_plot = plt.subplots()\n",
    "regular_plot.plot(red_x, red_y, 'r,')\n",
    "regular_plot.plot(green_x, green_y, 'g,')\n",
    "regular_plot.plot(yellow_x, yellow_y, 'y,')\n",
    "plt.show()"
   ]
  },
  {
   "cell_type": "markdown",
   "metadata": {},
   "source": [
    "Теперь построим аналогичный фрактал на [-1, 1]"
   ]
  },
  {
   "cell_type": "code",
   "execution_count": 9,
   "metadata": {},
   "outputs": [
    {
     "data": {
      "image/png": "[encoded data removed]",
      "text/plain": [
       "<matplotlib.figure.Figure at 0x227c9771cf8>"
      ]
     },
     "metadata": {},
     "output_type": "display_data"
    }
   ],
   "source": [
    "x = numpy.arange(-1, 1, 0.005)\n",
    "y = numpy.arange(-1, 1, 0.005)\n",
    "red_x = []\n",
    "red_y = []\n",
    "green_x = []\n",
    "green_y = []\n",
    "yellow_x = []\n",
    "yellow_y = []\n",
    "for i in x:\n",
    "    for j in y:\n",
    "        if abs(iteration(f, i + j * 1j, 8).imag) <= 0.45:\n",
    "            red_x.append(i)\n",
    "            red_y.append(j)\n",
    "        elif iteration(f, i + j * 1j, 8).imag <= -0.45:\n",
    "            green_x.append(i)\n",
    "            green_y.append(j)\n",
    "        else:\n",
    "            yellow_x.append(i)\n",
    "            yellow_y.append(j)\n",
    "            \n",
    "figure, regular_plot = plt.subplots()\n",
    "regular_plot.plot(red_x, red_y, 'r,')\n",
    "regular_plot.plot(green_x, green_y, 'g,')\n",
    "regular_plot.plot(yellow_x, yellow_y, 'y,')\n",
    "plt.show()"
   ]
  }
 ],
 "metadata": {
  "kernelspec": {
   "display_name": "Python 3",
   "language": "python",
   "name": "python3"
  },
  "language_info": {
   "codemirror_mode": {
    "name": "ipython",
    "version": 3
   },
   "file_extension": ".py",
   "mimetype": "text/x-python",
   "name": "python",
   "nbconvert_exporter": "python",
   "pygments_lexer": "ipython3",
   "version": "3.6.3"
  }
 },
 "nbformat": 4,
 "nbformat_minor": 2
}
